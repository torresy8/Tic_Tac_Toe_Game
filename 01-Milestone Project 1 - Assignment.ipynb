{
 "cells": [
  {
   "cell_type": "markdown",
   "metadata": {},
   "source": [
    "___\n",
    "\n",
    "<a href='https://www.udemy.com/user/joseportilla/'><img src='../Pierian_Data_Logo.png'/></a>\n",
    "___\n",
    "<center><em>Content Copyright by Pierian Data</em></center>"
   ]
  },
  {
   "cell_type": "markdown",
   "metadata": {},
   "source": [
    "# Milestone Project 1\n",
    "## Congratulations on making it to your first milestone!\n",
    "You've already learned a ton and are ready to work on a real project.\n",
    "\n",
    "Your assignment: Create a Tic Tac Toe game. You are free to use any IDE you like.\n",
    "\n",
    "Here are the requirements:\n",
    "\n",
    "* 2 players should be able to play the game (both sitting at the same computer)\n",
    "* The board should be printed out every time a player makes a move\n",
    "* You should be able to accept input of the player position and then place a symbol on the board\n",
    "\n",
    "Feel free to use Google to help you figure anything out (but don't just Google \"Tic Tac Toe in Python\" otherwise you won't learn anything!) Keep in mind that this project can take anywhere between several hours to several days.\n",
    "\n",
    "There are 4 Jupyter Notebooks related to this assignment:\n",
    "\n",
    "* This Assignment Notebook\n",
    "* A \"Walkthrough Steps Workbook\" Notebook\n",
    "* A \"Complete Walkthrough Solution\" Notebook\n",
    "* An \"Advanced Solution\" Notebook\n",
    "\n",
    "I encourage you to just try to start the project on your own without referencing any of the notebooks. If you get stuck, check out the next lecture which is a text lecture with helpful hints and steps. If you're still stuck after that, then check out the Walkthrough Steps Workbook, which breaks up the project in steps for you to solve. Still stuck? Then check out the Complete Walkthrough Solution video for more help on approaching the project!"
   ]
  },
  {
   "cell_type": "markdown",
   "metadata": {},
   "source": [
    "There are parts of this that will be a struggle...and that is good! I have complete faith that if you have made it this far through the course you have all the tools and knowledge to tackle this project. Remember, it's totally open book, so take your time, do a little research, and remember:\n",
    "\n",
    "## HAVE FUN!"
   ]
  },
  {
   "cell_type": "markdown",
   "metadata": {},
   "source": [
    "# PLAYER STANCE  "
   ]
  },
  {
   "cell_type": "code",
   "execution_count": 1,
   "metadata": {},
   "outputs": [],
   "source": [
    "def players_stance(): \n",
    "    \n",
    "    print('Welcome to Tic Tac Toe!\\n')\n",
    "    player_one = input('Player 1: Do you want to be X or O? ').upper()\n",
    "\n",
    "    while player_one != 'X' and player_one != 'O':\n",
    "            print('\\nTry Again: Please enter X or O')\n",
    "            player_one = input('Do you want to be X or O? ').upper()\n",
    "    \n",
    "    print(\"\\nPlayer 1 will go first.\\n\")\n",
    "        \n",
    "    if player_one == 'X': \n",
    "        player_two = 'O'\n",
    "    elif player_one == 'O': \n",
    "        player_two = 'X'\n",
    "    \n",
    "    return (player_one, player_two) "
   ]
  },
  {
   "cell_type": "markdown",
   "metadata": {},
   "source": [
    "# Ready to Play?"
   ]
  },
  {
   "cell_type": "code",
   "execution_count": 2,
   "metadata": {},
   "outputs": [],
   "source": [
    "def ready_to_play():\n",
    "    \n",
    "    play = input(\"Are you ready to play? Enter Yes or No \").lower().strip()\n",
    "    \n",
    "    while play != 'yes' and play != 'no': \n",
    "        print(\"\\nTry Again: Please enter Yes or No\")\n",
    "        play = input(\"Are you ready to play? Enter Yes or No \").lower().strip()\n",
    "    \n",
    "    return play"
   ]
  },
  {
   "cell_type": "markdown",
   "metadata": {},
   "source": [
    "# IF PLAY YES, CLEAR OUTPUT AND BEGIN GAME "
   ]
  },
  {
   "cell_type": "code",
   "execution_count": null,
   "metadata": {},
   "outputs": [],
   "source": [
    "from IPython.display import clear_output"
   ]
  },
  {
   "cell_type": "markdown",
   "metadata": {},
   "source": [
    "# PRINT BOARD "
   ]
  },
  {
   "cell_type": "code",
   "execution_count": 3,
   "metadata": {},
   "outputs": [],
   "source": [
    "def print_board(ordered_pattern):\n",
    "    \n",
    "    board = ['row3','divider','row2','divider','row1']\n",
    "\n",
    "    for section in board:\n",
    "        print(pattern[section])"
   ]
  },
  {
   "cell_type": "markdown",
   "metadata": {},
   "source": [
    "# CREATE CODE"
   ]
  },
  {
   "cell_type": "code",
   "execution_count": 4,
   "metadata": {},
   "outputs": [],
   "source": [
    "def create_code(ordered_pattern):\n",
    "\n",
    "    pattern_copy = ordered_pattern.copy()\n",
    "\n",
    "    del pattern_copy['divider']\n",
    "\n",
    "    code = \"\"\n",
    "\n",
    "    for key in pattern_copy: \n",
    "        pattern_copy[key] = pattern_copy[key].replace(\" | \",\"\")\n",
    "        code += pattern_copy[key]\n",
    "\n",
    "    return code"
   ]
  },
  {
   "cell_type": "markdown",
   "metadata": {},
   "source": [
    "# GET USER POSITION TO REPLACE "
   ]
  },
  {
   "cell_type": "code",
   "execution_count": 5,
   "metadata": {},
   "outputs": [],
   "source": [
    "# need to make sure the input is a digit and that the number is between 1 and 9 \n",
    "# output for input is a string \n",
    "\n",
    "def user_choice(code):\n",
    "\n",
    "    position_digit = 'NOTDIGIT'\n",
    "    in_range = range(0,10)\n",
    "    get_input = True \n",
    "\n",
    "    position_digit = input('Choose your position: (1-9) ')\n",
    "\n",
    "    while get_input: \n",
    "\n",
    "        if position_digit.isdigit() == False:\n",
    "            print('\\nTry Again: Please enter a number from 0-9')\n",
    "            position_digit = input('Choose your position: (1-9) ')\n",
    "\n",
    "        elif int(position_digit) not in in_range: \n",
    "            print('\\nTry Again: Please enter a number from 0-9')\n",
    "            position_digit = input('Choose your position: (1-9) ')\n",
    "        \n",
    "        elif code[int(position_digit)-1] == 'X' or code[int(position_digit)-1] == 'O':\n",
    "            print('\\nTry Again: That spot is taken')\n",
    "            position_digit = input('Choose your position: (1-9) ')\n",
    "\n",
    "        else: \n",
    "            get_input = False\n",
    "        \n",
    "        return position_digit\n"
   ]
  },
  {
   "cell_type": "markdown",
   "metadata": {},
   "source": [
    "# UPDATE THE BOARD "
   ]
  },
  {
   "cell_type": "code",
   "execution_count": 6,
   "metadata": {},
   "outputs": [],
   "source": [
    "def update_board(ordered_pattern, position, player):\n",
    "    \n",
    "    row3 = [7,8,9]\n",
    "    row2 = [4,5,6]\n",
    "    row1 = [1,2,3]\n",
    "    \n",
    "    if int(position) in row1: \n",
    "        pattern['row1'] = pattern['row1'].replace(position, player)\n",
    "    elif int(position) in row2: \n",
    "        pattern['row2'] = pattern['row2'].replace(position, player)\n",
    "    elif int(position) in row3: \n",
    "        pattern['row3'] = pattern['row3'].replace(position, player)\n",
    "\n",
    "    return pattern"
   ]
  },
  {
   "cell_type": "markdown",
   "metadata": {},
   "source": [
    "# DETERMINE OUTCOME BASED ON CODE"
   ]
  },
  {
   "cell_type": "code",
   "execution_count": 11,
   "metadata": {},
   "outputs": [],
   "source": [
    "def outcome(code, player_one, player_two):\n",
    "\n",
    "    winning_location = [[1,2,3],[4,5,6],[7,8,9],[1,4,7],[2,5,8],[3,6,9],[1,5,9],[3,5,7]]\n",
    "\n",
    "    current_P1 = []\n",
    "    current_P2 = []\n",
    "\n",
    "    for index, value in enumerate(code, start=1):\n",
    "        if value == player_one:\n",
    "            #print (index,value)\n",
    "            current_P1.append(index)\n",
    "        if value == player_two: \n",
    "            current_P2.append(index)\n",
    "\n",
    "    #print(current_P1)\n",
    "    #print(current_P2)\n",
    "\n",
    "    for win in winning_location: \n",
    "        if set(win).issubset(set(current_P1)):\n",
    "            print('\\nCongratulations! You have won the game!\\n')\n",
    "            return 'no'\n",
    "            break\n",
    "        if set(win).issubset(set(current_P2)): \n",
    "            print('\\nOh no! You lost!\\n')\n",
    "            return 'no'\n",
    "            break\n",
    "        elif len(current_P1 + current_P2) == 9:\n",
    "            print(\"\\nIt's a tie!\\n\")\n",
    "            return 'no'\n",
    "            break\n",
    "            \n",
    "    return 'yes'"
   ]
  },
  {
   "cell_type": "markdown",
   "metadata": {},
   "source": [
    "# REPLAY"
   ]
  },
  {
   "cell_type": "code",
   "execution_count": 8,
   "metadata": {},
   "outputs": [],
   "source": [
    "#COMPLETE\n",
    "\n",
    "def play_again():\n",
    "    \n",
    "    replay = input(\"Would you like to play again? Enter Yes or No\\n\").lower().strip()\n",
    "    \n",
    "    while replay != 'yes' and replay != 'no': \n",
    "        print(\"\\nTry Again: Please enter Yes or No\")\n",
    "        replay = input(\"Would you like to play again? Enter Yes or No\").lower().strip()\n",
    "    \n",
    "    return replay "
   ]
  },
  {
   "cell_type": "markdown",
   "metadata": {},
   "source": [
    "# FINAL GAME "
   ]
  },
  {
   "cell_type": "code",
   "execution_count": null,
   "metadata": {},
   "outputs": [],
   "source": [
    "from IPython.display import clear_output\n",
    "#clear_output()"
   ]
  },
  {
   "cell_type": "code",
   "execution_count": 12,
   "metadata": {},
   "outputs": [
    {
     "name": "stdout",
     "output_type": "stream",
     "text": [
      "Welcome to Tic Tac Toe!\n",
      "\n",
      "Player 1: Do you want to be X or O? x\n",
      "\n",
      "Player 1 will go first.\n",
      "\n",
      "Are you ready to play? Enter Yes or No yes\n",
      "\n",
      "\n",
      "7 | 8 | 9\n",
      "---------\n",
      "4 | 5 | 6\n",
      "---------\n",
      "1 | 2 | 3\n",
      "Choose your position: (1-9) 2\n",
      "\n",
      "\n",
      "7 | 8 | 9\n",
      "---------\n",
      "4 | 5 | 6\n",
      "---------\n",
      "1 | X | 3\n",
      "Choose your position: (1-9) 1\n",
      "\n",
      "\n",
      "7 | 8 | 9\n",
      "---------\n",
      "4 | 5 | 6\n",
      "---------\n",
      "O | X | 3\n",
      "Choose your position: (1-9) 9\n",
      "\n",
      "\n",
      "7 | 8 | X\n",
      "---------\n",
      "4 | 5 | 6\n",
      "---------\n",
      "O | X | 3\n",
      "Choose your position: (1-9) 5\n",
      "\n",
      "\n",
      "7 | 8 | X\n",
      "---------\n",
      "4 | O | 6\n",
      "---------\n",
      "O | X | 3\n",
      "Choose your position: (1-9) 6\n",
      "\n",
      "\n",
      "7 | 8 | X\n",
      "---------\n",
      "4 | O | X\n",
      "---------\n",
      "O | X | 3\n",
      "Choose your position: (1-9) 8\n",
      "\n",
      "\n",
      "7 | O | X\n",
      "---------\n",
      "4 | O | X\n",
      "---------\n",
      "O | X | 3\n",
      "Choose your position: (1-9) 7\n",
      "\n",
      "\n",
      "X | O | X\n",
      "---------\n",
      "4 | O | X\n",
      "---------\n",
      "O | X | 3\n",
      "Choose your position: (1-9) 3\n",
      "\n",
      "\n",
      "X | O | X\n",
      "---------\n",
      "4 | O | X\n",
      "---------\n",
      "O | X | O\n",
      "Choose your position: (1-9) 4\n",
      "\n",
      "\n",
      "X | O | X\n",
      "---------\n",
      "X | O | X\n",
      "---------\n",
      "O | X | O\n",
      "\n",
      "It's a tie!\n",
      "\n",
      "Would you like to play again? Enter Yes or No\n",
      "no\n"
     ]
    }
   ],
   "source": [
    "replay ='yes'\n",
    "while replay == 'yes':\n",
    "    #clear ouput?\n",
    "    #clear_output()\n",
    "    #player one deicdes X or O, returns 'x' or 'o'\n",
    "    player_one, player_two = players_stance() \n",
    "    player_count = 0\n",
    "\n",
    "    #ready to play? \n",
    "    #returns 'yes' or 'no'\n",
    "    play = ready_to_play()\n",
    "    game_on = play\n",
    "    if game_on == 'no':\n",
    "        break\n",
    "\n",
    "    #original pattern - Ordered Dicttionary\n",
    "    from collections import OrderedDict\n",
    "    pattern = OrderedDict([('row1', '1 | 2 | 3'), ('row2', '4 | 5 | 6'),('row3', '7 | 8 | 9'),('divider', '---------')])\n",
    "\n",
    "    #print initial board \n",
    "    print('\\n')\n",
    "    print_board(pattern)\n",
    "\n",
    "    #create initial code\n",
    "    #creates a 9 digit code \n",
    "    #'123456789'\n",
    "    code = create_code(pattern)\n",
    "\n",
    "\n",
    "    while game_on == 'yes':\n",
    "        \n",
    "        #position to replace\n",
    "        #returns a str of a number [1-9]\n",
    "        position = user_choice(code)\n",
    "\n",
    "        #determine if it is player one or two \n",
    "        if player_count % 2 == 0: \n",
    "            player = player_one \n",
    "        else: \n",
    "            player = player_two \n",
    "\n",
    "        #update board/pattern based on whose turn it is \n",
    "        #returns a new ordered dictionary with pos 1-9 swapped with 'X' or 'O'\n",
    "        pattern = update_board(pattern, position, player)\n",
    "\n",
    "        #update player count to determine how many plays havex been made\n",
    "        player_count = player_count + 1\n",
    "\n",
    "        #print board \n",
    "        print('\\n')\n",
    "        print_board(pattern)\n",
    "\n",
    "        #update code\n",
    "        code = create_code(pattern)\n",
    "\n",
    "        #determine outcome based on code \n",
    "        game_on = outcome(code, player_one, player_two)\n",
    "        \n",
    "    \n",
    "    replay = play_again()\n",
    "    if replay == 'no': \n",
    "        break\n",
    "\n",
    "    "
   ]
  }
 ],
 "metadata": {
  "kernelspec": {
   "display_name": "Python 3 (ipykernel)",
   "language": "python",
   "name": "python3"
  },
  "language_info": {
   "codemirror_mode": {
    "name": "ipython",
    "version": 3
   },
   "file_extension": ".py",
   "mimetype": "text/x-python",
   "name": "python",
   "nbconvert_exporter": "python",
   "pygments_lexer": "ipython3",
   "version": "3.9.12"
  }
 },
 "nbformat": 4,
 "nbformat_minor": 1
}
